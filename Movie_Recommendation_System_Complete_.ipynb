{
  "nbformat": 4,
  "nbformat_minor": 0,
  "metadata": {
    "colab": {
      "provenance": [],
      "machine_shape": "hm",
      "gpuClass": "premium",
      "include_colab_link": true
    },
    "kernelspec": {
      "name": "python3",
      "display_name": "Python 3"
    },
    "language_info": {
      "name": "python"
    },
    "accelerator": "GPU",
    "gpuClass": "premium"
  },
  "cells": [
    {
      "cell_type": "markdown",
      "metadata": {
        "id": "view-in-github",
        "colab_type": "text"
      },
      "source": [
        "<a href=\"https://colab.research.google.com/github/shruthi193/Spotify-clone/blob/main/Movie_Recommendation_System_Complete_.ipynb\" target=\"_parent\"><img src=\"https://colab.research.google.com/assets/colab-badge.svg\" alt=\"Open In Colab\"/></a>"
      ]
    },
    {
      "cell_type": "markdown",
      "source": [
        "# Movie Recommender System - Model Training & Inference\n",
        "\n",
        "*Table of Content*\n",
        "\n",
        "| Sr. No | Section Title | Description | Reference Link |\n",
        "| ------ | ------------- | ----------- | -------------- |\n",
        "| 00 | Drive & Files | Linking your google drive and uploading your Kaggle API token | To be Updated |\n",
        "| 01 | Kaggle Setup | Information & details on downloading dataset via Kaggle API | To be Updated |\n",
        "| 02 | Modules & Library | Information on setting up requirements for training and inference | To be Updated |\n",
        "| 03 | Data Cleaning & Engineering | Information on preparing data for trainable features | To be Updated |\n",
        "| 04 | Recommendation Matrix | Building the matrix which contains similarity scores between movies based on the features | To be Updated |\n",
        "| 05 | Model & Data Export | Exporting the trained model & dataset efficiently | To be Updated |\n",
        "| 06 | Inference | Loading the trained model to execute Inference | To be Updated |"
      ],
      "metadata": {
        "id": "bLlWM-puE5mD"
      }
    },
    {
      "cell_type": "markdown",
      "source": [
        "## Section 0: Drive & Files\n",
        "\n",
        ">     Linking your google drive and uploading your Kaggle API token"
      ],
      "metadata": {
        "id": "dG4l46IEIChc"
      }
    },
    {
      "cell_type": "markdown",
      "source": [
        "#### 1: Mounting your Google Drive"
      ],
      "metadata": {
        "id": "p1HPlxYPINoh"
      }
    },
    {
      "cell_type": "code",
      "source": [
        "from google.colab import drive, files\n",
        "drive.mount('/content/drive')"
      ],
      "metadata": {
        "colab": {
          "base_uri": "https://localhost:8080/"
        },
        "id": "5A667famIGgW",
        "outputId": "436a17e2-b70c-458b-e679-0970250a1b8f"
      },
      "execution_count": 2,
      "outputs": [
        {
          "output_type": "stream",
          "name": "stdout",
          "text": [
            "Mounted at /content/drive\n"
          ]
        }
      ]
    },
    {
      "cell_type": "markdown",
      "source": [
        "#### 2: Uploading your Kaggle API Token File"
      ],
      "metadata": {
        "id": "rfN2T3MzIQ0W"
      }
    },
    {
      "cell_type": "code",
      "source": [
        "files.upload()"
      ],
      "metadata": {
        "id": "InKGIBDMIUgy",
        "colab": {
          "base_uri": "https://localhost:8080/",
          "height": 90
        },
        "outputId": "d0fe5bcd-d1d6-4d76-a1a2-66e589381462"
      },
      "execution_count": 3,
      "outputs": [
        {
          "output_type": "display_data",
          "data": {
            "text/plain": [
              "<IPython.core.display.HTML object>"
            ],
            "text/html": [
              "\n",
              "     <input type=\"file\" id=\"files-c17b2955-0660-4b0e-b76b-eb0b5b83bc39\" name=\"files[]\" multiple disabled\n",
              "        style=\"border:none\" />\n",
              "     <output id=\"result-c17b2955-0660-4b0e-b76b-eb0b5b83bc39\">\n",
              "      Upload widget is only available when the cell has been executed in the\n",
              "      current browser session. Please rerun this cell to enable.\n",
              "      </output>\n",
              "      <script>// Copyright 2017 Google LLC\n",
              "//\n",
              "// Licensed under the Apache License, Version 2.0 (the \"License\");\n",
              "// you may not use this file except in compliance with the License.\n",
              "// You may obtain a copy of the License at\n",
              "//\n",
              "//      http://www.apache.org/licenses/LICENSE-2.0\n",
              "//\n",
              "// Unless required by applicable law or agreed to in writing, software\n",
              "// distributed under the License is distributed on an \"AS IS\" BASIS,\n",
              "// WITHOUT WARRANTIES OR CONDITIONS OF ANY KIND, either express or implied.\n",
              "// See the License for the specific language governing permissions and\n",
              "// limitations under the License.\n",
              "\n",
              "/**\n",
              " * @fileoverview Helpers for google.colab Python module.\n",
              " */\n",
              "(function(scope) {\n",
              "function span(text, styleAttributes = {}) {\n",
              "  const element = document.createElement('span');\n",
              "  element.textContent = text;\n",
              "  for (const key of Object.keys(styleAttributes)) {\n",
              "    element.style[key] = styleAttributes[key];\n",
              "  }\n",
              "  return element;\n",
              "}\n",
              "\n",
              "// Max number of bytes which will be uploaded at a time.\n",
              "const MAX_PAYLOAD_SIZE = 100 * 1024;\n",
              "\n",
              "function _uploadFiles(inputId, outputId) {\n",
              "  const steps = uploadFilesStep(inputId, outputId);\n",
              "  const outputElement = document.getElementById(outputId);\n",
              "  // Cache steps on the outputElement to make it available for the next call\n",
              "  // to uploadFilesContinue from Python.\n",
              "  outputElement.steps = steps;\n",
              "\n",
              "  return _uploadFilesContinue(outputId);\n",
              "}\n",
              "\n",
              "// This is roughly an async generator (not supported in the browser yet),\n",
              "// where there are multiple asynchronous steps and the Python side is going\n",
              "// to poll for completion of each step.\n",
              "// This uses a Promise to block the python side on completion of each step,\n",
              "// then passes the result of the previous step as the input to the next step.\n",
              "function _uploadFilesContinue(outputId) {\n",
              "  const outputElement = document.getElementById(outputId);\n",
              "  const steps = outputElement.steps;\n",
              "\n",
              "  const next = steps.next(outputElement.lastPromiseValue);\n",
              "  return Promise.resolve(next.value.promise).then((value) => {\n",
              "    // Cache the last promise value to make it available to the next\n",
              "    // step of the generator.\n",
              "    outputElement.lastPromiseValue = value;\n",
              "    return next.value.response;\n",
              "  });\n",
              "}\n",
              "\n",
              "/**\n",
              " * Generator function which is called between each async step of the upload\n",
              " * process.\n",
              " * @param {string} inputId Element ID of the input file picker element.\n",
              " * @param {string} outputId Element ID of the output display.\n",
              " * @return {!Iterable<!Object>} Iterable of next steps.\n",
              " */\n",
              "function* uploadFilesStep(inputId, outputId) {\n",
              "  const inputElement = document.getElementById(inputId);\n",
              "  inputElement.disabled = false;\n",
              "\n",
              "  const outputElement = document.getElementById(outputId);\n",
              "  outputElement.innerHTML = '';\n",
              "\n",
              "  const pickedPromise = new Promise((resolve) => {\n",
              "    inputElement.addEventListener('change', (e) => {\n",
              "      resolve(e.target.files);\n",
              "    });\n",
              "  });\n",
              "\n",
              "  const cancel = document.createElement('button');\n",
              "  inputElement.parentElement.appendChild(cancel);\n",
              "  cancel.textContent = 'Cancel upload';\n",
              "  const cancelPromise = new Promise((resolve) => {\n",
              "    cancel.onclick = () => {\n",
              "      resolve(null);\n",
              "    };\n",
              "  });\n",
              "\n",
              "  // Wait for the user to pick the files.\n",
              "  const files = yield {\n",
              "    promise: Promise.race([pickedPromise, cancelPromise]),\n",
              "    response: {\n",
              "      action: 'starting',\n",
              "    }\n",
              "  };\n",
              "\n",
              "  cancel.remove();\n",
              "\n",
              "  // Disable the input element since further picks are not allowed.\n",
              "  inputElement.disabled = true;\n",
              "\n",
              "  if (!files) {\n",
              "    return {\n",
              "      response: {\n",
              "        action: 'complete',\n",
              "      }\n",
              "    };\n",
              "  }\n",
              "\n",
              "  for (const file of files) {\n",
              "    const li = document.createElement('li');\n",
              "    li.append(span(file.name, {fontWeight: 'bold'}));\n",
              "    li.append(span(\n",
              "        `(${file.type || 'n/a'}) - ${file.size} bytes, ` +\n",
              "        `last modified: ${\n",
              "            file.lastModifiedDate ? file.lastModifiedDate.toLocaleDateString() :\n",
              "                                    'n/a'} - `));\n",
              "    const percent = span('0% done');\n",
              "    li.appendChild(percent);\n",
              "\n",
              "    outputElement.appendChild(li);\n",
              "\n",
              "    const fileDataPromise = new Promise((resolve) => {\n",
              "      const reader = new FileReader();\n",
              "      reader.onload = (e) => {\n",
              "        resolve(e.target.result);\n",
              "      };\n",
              "      reader.readAsArrayBuffer(file);\n",
              "    });\n",
              "    // Wait for the data to be ready.\n",
              "    let fileData = yield {\n",
              "      promise: fileDataPromise,\n",
              "      response: {\n",
              "        action: 'continue',\n",
              "      }\n",
              "    };\n",
              "\n",
              "    // Use a chunked sending to avoid message size limits. See b/62115660.\n",
              "    let position = 0;\n",
              "    do {\n",
              "      const length = Math.min(fileData.byteLength - position, MAX_PAYLOAD_SIZE);\n",
              "      const chunk = new Uint8Array(fileData, position, length);\n",
              "      position += length;\n",
              "\n",
              "      const base64 = btoa(String.fromCharCode.apply(null, chunk));\n",
              "      yield {\n",
              "        response: {\n",
              "          action: 'append',\n",
              "          file: file.name,\n",
              "          data: base64,\n",
              "        },\n",
              "      };\n",
              "\n",
              "      let percentDone = fileData.byteLength === 0 ?\n",
              "          100 :\n",
              "          Math.round((position / fileData.byteLength) * 100);\n",
              "      percent.textContent = `${percentDone}% done`;\n",
              "\n",
              "    } while (position < fileData.byteLength);\n",
              "  }\n",
              "\n",
              "  // All done.\n",
              "  yield {\n",
              "    response: {\n",
              "      action: 'complete',\n",
              "    }\n",
              "  };\n",
              "}\n",
              "\n",
              "scope.google = scope.google || {};\n",
              "scope.google.colab = scope.google.colab || {};\n",
              "scope.google.colab._files = {\n",
              "  _uploadFiles,\n",
              "  _uploadFilesContinue,\n",
              "};\n",
              "})(self);\n",
              "</script> "
            ]
          },
          "metadata": {}
        },
        {
          "output_type": "stream",
          "name": "stdout",
          "text": [
            "Saving kaggle.json to kaggle.json\n"
          ]
        },
        {
          "output_type": "execute_result",
          "data": {
            "text/plain": [
              "{'kaggle.json': b'{\"username\":\"lochanshruthivs33\",\"key\":\"2e7f8a9dc05de99adcc52c0208a1187f\"}'}"
            ]
          },
          "metadata": {},
          "execution_count": 3
        }
      ]
    },
    {
      "cell_type": "markdown",
      "source": [
        "## Section 1: Kaggle Setup\n",
        "\n",
        "> \tInformation & details on downloading dataset via Kaggle API"
      ],
      "metadata": {
        "id": "6VD74_AsHR7b"
      }
    },
    {
      "cell_type": "markdown",
      "source": [
        "#### 1: Enable Kaggle API for User Mode Aceess"
      ],
      "metadata": {
        "id": "7u2yJBokHa6d"
      }
    },
    {
      "cell_type": "code",
      "source": [
        "!pip install -q kaggle\n",
        "!mkdir ~/.kaggle\n",
        "!cp kaggle.json ~/.kaggle/\n",
        "!chmod 600 ~/.kaggle/kaggle.json"
      ],
      "metadata": {
        "id": "uhxd7OHky0fO"
      },
      "execution_count": null,
      "outputs": []
    },
    {
      "cell_type": "markdown",
      "source": [
        "#### 2: Downloading the Dataset from Kaggle to Google Colab"
      ],
      "metadata": {
        "id": "IlxdiNQ8I59g"
      }
    },
    {
      "cell_type": "code",
      "source": [
        "!kaggle datasets download -d rounakbanik/the-movies-dataset"
      ],
      "metadata": {
        "colab": {
          "base_uri": "https://localhost:8080/"
        },
        "id": "LF1GwGzdyzRB",
        "outputId": "7bed3107-16ce-41eb-c842-fc8023d35bef"
      },
      "execution_count": null,
      "outputs": [
        {
          "output_type": "stream",
          "name": "stdout",
          "text": [
            "Dataset URL: https://www.kaggle.com/datasets/rounakbanik/the-movies-dataset\n",
            "License(s): CC0-1.0\n",
            "Downloading the-movies-dataset.zip to /content\n",
            " 99% 225M/228M [00:10<00:00, 20.0MB/s]\n",
            "100% 228M/228M [00:10<00:00, 22.9MB/s]\n"
          ]
        }
      ]
    },
    {
      "cell_type": "markdown",
      "source": [
        "#### 3: Extracting Dataset\n",
        "\n",
        "Whenever we download dataset from Kaggle, it is usually in zip or tar compression technique. To be able to access dataset, we need to extract it using suitable decompression technique."
      ],
      "metadata": {
        "id": "4UWjm4GLI_vb"
      }
    },
    {
      "cell_type": "code",
      "source": [
        "## Unzip the dataset into /content/data directory\n",
        "!unzip the-movies-dataset.zip -d /content/data\n",
        "\n",
        "## Once extracted, we then remove it to save disk space.\n",
        "!rm the-movies-dataset.zip"
      ],
      "metadata": {
        "colab": {
          "base_uri": "https://localhost:8080/"
        },
        "id": "GPRRbnETzmwX",
        "outputId": "fe449d0f-2be7-4bf3-c819-afc53da7c801"
      },
      "execution_count": null,
      "outputs": [
        {
          "output_type": "stream",
          "name": "stdout",
          "text": [
            "Archive:  the-movies-dataset.zip\n",
            "  inflating: /content/data/credits.csv  \n",
            "  inflating: /content/data/keywords.csv  \n",
            "  inflating: /content/data/links.csv  \n",
            "  inflating: /content/data/links_small.csv  \n",
            "  inflating: /content/data/movies_metadata.csv  \n",
            "  inflating: /content/data/ratings.csv  \n",
            "  inflating: /content/data/ratings_small.csv  \n"
          ]
        }
      ]
    },
    {
      "cell_type": "markdown",
      "source": [
        "## Section 2: Modules & Library\n",
        "\n",
        ">     Information on setting up requirements for training and inference"
      ],
      "metadata": {
        "id": "jTLFhb4dJsSL"
      }
    },
    {
      "cell_type": "markdown",
      "source": [
        "#### 1: Installing required packages"
      ],
      "metadata": {
        "id": "ewM4nXZ3Knxr"
      }
    },
    {
      "cell_type": "code",
      "source": [
        "!pip install --quiet fastparquet\n",
        "!pip install --quiet pyarrow"
      ],
      "metadata": {
        "colab": {
          "base_uri": "https://localhost:8080/"
        },
        "id": "M5VnX1WH1qjS",
        "outputId": "e465c36e-3f0b-4f83-ddef-cc705770c0d3"
      },
      "execution_count": null,
      "outputs": [
        {
          "output_type": "stream",
          "name": "stdout",
          "text": [
            "\u001b[2K     \u001b[90m━━━━━━━━━━━━━━━━━━━━━━━━━━━━━━━━━━━━━━━━\u001b[0m \u001b[32m1.7/1.7 MB\u001b[0m \u001b[31m16.6 MB/s\u001b[0m eta \u001b[36m0:00:00\u001b[0m\n",
            "\u001b[2K     \u001b[90m━━━━━━━━━━━━━━━━━━━━━━━━━━━━━━━━━━━━━━━━\u001b[0m \u001b[32m2.0/2.0 MB\u001b[0m \u001b[31m62.9 MB/s\u001b[0m eta \u001b[36m0:00:00\u001b[0m\n",
            "\u001b[?25h"
          ]
        }
      ]
    },
    {
      "cell_type": "markdown",
      "source": [
        "---\n",
        "\n",
        "For your Information: This notebook is complied on Google Colab that provides most of the modules pre-installed in working environment. If you happen to run it locally on your system, you may need to install additional dependencies.\n",
        "\n",
        "---"
      ],
      "metadata": {
        "id": "YT1LOx8PKr2c"
      }
    },
    {
      "cell_type": "markdown",
      "source": [
        "#### 2: Importing Rerquired Packages"
      ],
      "metadata": {
        "id": "5tymq4LKXkBv"
      }
    },
    {
      "cell_type": "code",
      "source": [
        "%matplotlib inline\n",
        "import pandas as pd\n",
        "import numpy as np\n",
        "\n",
        "from ast import literal_eval\n",
        "from sklearn.feature_extraction.text import CountVectorizer\n",
        "from sklearn.metrics.pairwise import cosine_similarity\n",
        "from nltk.stem.snowball import SnowballStemmer\n",
        "\n",
        "import pyarrow as pa\n",
        "import pyarrow.parquet as pq\n",
        "\n",
        "import warnings\n",
        "warnings.simplefilter('ignore')"
      ],
      "metadata": {
        "id": "GZp5ZWzWyUXE"
      },
      "execution_count": null,
      "outputs": []
    },
    {
      "cell_type": "markdown",
      "source": [
        "## Section 3: Data Cleaning & Engineering\n",
        "\n",
        ">     Information on preparing data for trainable features"
      ],
      "metadata": {
        "id": "HHYRCCwCXsIP"
      }
    },
    {
      "cell_type": "markdown",
      "source": [
        "#### 1: Utility Functions For Data Cleaning & Engineering"
      ],
      "metadata": {
        "id": "XJqzQzFKfaJ0"
      }
    },
    {
      "cell_type": "code",
      "source": [
        "def get_director(x):\n",
        "    \"\"\"\n",
        "    Extract the Name of the Director for a movie if it is present inside the job\n",
        "    \"\"\"\n",
        "    for i in x:\n",
        "        if i['job'] == 'Director':\n",
        "            return i['name']\n",
        "    return np.nan"
      ],
      "metadata": {
        "id": "z_SmfY9WfBXk"
      },
      "execution_count": null,
      "outputs": []
    },
    {
      "cell_type": "markdown",
      "source": [
        "#### 2: Reading dataset and merging them to form master dataset"
      ],
      "metadata": {
        "id": "imLY6sRy_OBs"
      }
    },
    {
      "cell_type": "code",
      "source": [
        "movies_dataset  = pd.read_csv('/content/data/movies_metadata.csv')\n",
        "credits         = pd.read_csv('/content/data/credits.csv')\n",
        "keywords        = pd.read_csv('/content/data/keywords.csv')\n",
        "links           = pd.read_csv('/content/data/links.csv')"
      ],
      "metadata": {
        "id": "6ZDrGO9oyUUs"
      },
      "execution_count": null,
      "outputs": []
    },
    {
      "cell_type": "code",
      "source": [
        "## Dropping these 3 rows because Date Column value for them is string date instead of Int with ID.\n",
        "movies_dataset = movies_dataset.drop([19730, 29503, 35587])"
      ],
      "metadata": {
        "id": "2ruYT_8N_Cw6"
      },
      "execution_count": null,
      "outputs": []
    },
    {
      "cell_type": "code",
      "source": [
        "## Extracting Genres of movies from the genres dictionary. If not present, append empty list\n",
        "movies_dataset['genres'] = movies_dataset['genres'].fillna('[]').apply(literal_eval).apply(lambda x: [i['name'] for i in x] if isinstance(x, list) else [])"
      ],
      "metadata": {
        "id": "g8DNnxq4yUS_"
      },
      "execution_count": null,
      "outputs": []
    },
    {
      "cell_type": "code",
      "source": [
        "## Convert to common data type for primary key in our dataset\n",
        "keywords['id'] = keywords['id'].astype('int')\n",
        "credits['id'] = credits['id'].astype('int')\n",
        "movies_dataset['id'] = movies_dataset['id'].astype('int')"
      ],
      "metadata": {
        "id": "rrLCuGdT2xo3"
      },
      "execution_count": null,
      "outputs": []
    },
    {
      "cell_type": "code",
      "source": [
        "## Merging movies dataset with credits & keywords to form master dataset\n",
        "movies_dataset = movies_dataset.merge(credits, on='id')\n",
        "master_dataset = movies_dataset.merge(keywords, on='id')"
      ],
      "metadata": {
        "id": "kCZEqojC2xm9"
      },
      "execution_count": null,
      "outputs": []
    },
    {
      "cell_type": "code",
      "source": [
        "master_dataset.head(2)"
      ],
      "metadata": {
        "colab": {
          "base_uri": "https://localhost:8080/",
          "height": 352
        },
        "id": "Vb-6uHBCV0Cp",
        "outputId": "3a0e7f48-2b84-485a-c7dc-ee0b815717c4"
      },
      "execution_count": null,
      "outputs": [
        {
          "output_type": "execute_result",
          "data": {
            "text/plain": [
              "   adult                              belongs_to_collection    budget  \\\n",
              "0  False  {'id': 10194, 'name': 'Toy Story Collection', ...  30000000   \n",
              "1  False                                                NaN  65000000   \n",
              "\n",
              "                         genres                              homepage    id  \\\n",
              "0   [Animation, Comedy, Family]  http://toystory.disney.com/toy-story   862   \n",
              "1  [Adventure, Fantasy, Family]                                   NaN  8844   \n",
              "\n",
              "     imdb_id original_language original_title  \\\n",
              "0  tt0114709                en      Toy Story   \n",
              "1  tt0113497                en        Jumanji   \n",
              "\n",
              "                                            overview  ...  \\\n",
              "0  Led by Woody, Andy's toys live happily in his ...  ...   \n",
              "1  When siblings Judy and Peter discover an encha...  ...   \n",
              "\n",
              "                                    spoken_languages    status  \\\n",
              "0           [{'iso_639_1': 'en', 'name': 'English'}]  Released   \n",
              "1  [{'iso_639_1': 'en', 'name': 'English'}, {'iso...  Released   \n",
              "\n",
              "                                     tagline      title  video  vote_average  \\\n",
              "0                                        NaN  Toy Story  False           7.7   \n",
              "1  Roll the dice and unleash the excitement!    Jumanji  False           6.9   \n",
              "\n",
              "   vote_count                                               cast  \\\n",
              "0      5415.0  [{'cast_id': 14, 'character': 'Woody (voice)',...   \n",
              "1      2413.0  [{'cast_id': 1, 'character': 'Alan Parrish', '...   \n",
              "\n",
              "                                                crew  \\\n",
              "0  [{'credit_id': '52fe4284c3a36847f8024f49', 'de...   \n",
              "1  [{'credit_id': '52fe44bfc3a36847f80a7cd1', 'de...   \n",
              "\n",
              "                                            keywords  \n",
              "0  [{'id': 931, 'name': 'jealousy'}, {'id': 4290,...  \n",
              "1  [{'id': 10090, 'name': 'board game'}, {'id': 1...  \n",
              "\n",
              "[2 rows x 27 columns]"
            ],
            "text/html": [
              "\n",
              "  <div id=\"df-1dd9313d-ec51-44fd-ab84-4eca0f6c9e12\" class=\"colab-df-container\">\n",
              "    <div>\n",
              "<style scoped>\n",
              "    .dataframe tbody tr th:only-of-type {\n",
              "        vertical-align: middle;\n",
              "    }\n",
              "\n",
              "    .dataframe tbody tr th {\n",
              "        vertical-align: top;\n",
              "    }\n",
              "\n",
              "    .dataframe thead th {\n",
              "        text-align: right;\n",
              "    }\n",
              "</style>\n",
              "<table border=\"1\" class=\"dataframe\">\n",
              "  <thead>\n",
              "    <tr style=\"text-align: right;\">\n",
              "      <th></th>\n",
              "      <th>adult</th>\n",
              "      <th>belongs_to_collection</th>\n",
              "      <th>budget</th>\n",
              "      <th>genres</th>\n",
              "      <th>homepage</th>\n",
              "      <th>id</th>\n",
              "      <th>imdb_id</th>\n",
              "      <th>original_language</th>\n",
              "      <th>original_title</th>\n",
              "      <th>overview</th>\n",
              "      <th>...</th>\n",
              "      <th>spoken_languages</th>\n",
              "      <th>status</th>\n",
              "      <th>tagline</th>\n",
              "      <th>title</th>\n",
              "      <th>video</th>\n",
              "      <th>vote_average</th>\n",
              "      <th>vote_count</th>\n",
              "      <th>cast</th>\n",
              "      <th>crew</th>\n",
              "      <th>keywords</th>\n",
              "    </tr>\n",
              "  </thead>\n",
              "  <tbody>\n",
              "    <tr>\n",
              "      <th>0</th>\n",
              "      <td>False</td>\n",
              "      <td>{'id': 10194, 'name': 'Toy Story Collection', ...</td>\n",
              "      <td>30000000</td>\n",
              "      <td>[Animation, Comedy, Family]</td>\n",
              "      <td>http://toystory.disney.com/toy-story</td>\n",
              "      <td>862</td>\n",
              "      <td>tt0114709</td>\n",
              "      <td>en</td>\n",
              "      <td>Toy Story</td>\n",
              "      <td>Led by Woody, Andy's toys live happily in his ...</td>\n",
              "      <td>...</td>\n",
              "      <td>[{'iso_639_1': 'en', 'name': 'English'}]</td>\n",
              "      <td>Released</td>\n",
              "      <td>NaN</td>\n",
              "      <td>Toy Story</td>\n",
              "      <td>False</td>\n",
              "      <td>7.7</td>\n",
              "      <td>5415.0</td>\n",
              "      <td>[{'cast_id': 14, 'character': 'Woody (voice)',...</td>\n",
              "      <td>[{'credit_id': '52fe4284c3a36847f8024f49', 'de...</td>\n",
              "      <td>[{'id': 931, 'name': 'jealousy'}, {'id': 4290,...</td>\n",
              "    </tr>\n",
              "    <tr>\n",
              "      <th>1</th>\n",
              "      <td>False</td>\n",
              "      <td>NaN</td>\n",
              "      <td>65000000</td>\n",
              "      <td>[Adventure, Fantasy, Family]</td>\n",
              "      <td>NaN</td>\n",
              "      <td>8844</td>\n",
              "      <td>tt0113497</td>\n",
              "      <td>en</td>\n",
              "      <td>Jumanji</td>\n",
              "      <td>When siblings Judy and Peter discover an encha...</td>\n",
              "      <td>...</td>\n",
              "      <td>[{'iso_639_1': 'en', 'name': 'English'}, {'iso...</td>\n",
              "      <td>Released</td>\n",
              "      <td>Roll the dice and unleash the excitement!</td>\n",
              "      <td>Jumanji</td>\n",
              "      <td>False</td>\n",
              "      <td>6.9</td>\n",
              "      <td>2413.0</td>\n",
              "      <td>[{'cast_id': 1, 'character': 'Alan Parrish', '...</td>\n",
              "      <td>[{'credit_id': '52fe44bfc3a36847f80a7cd1', 'de...</td>\n",
              "      <td>[{'id': 10090, 'name': 'board game'}, {'id': 1...</td>\n",
              "    </tr>\n",
              "  </tbody>\n",
              "</table>\n",
              "<p>2 rows × 27 columns</p>\n",
              "</div>\n",
              "    <div class=\"colab-df-buttons\">\n",
              "\n",
              "  <div class=\"colab-df-container\">\n",
              "    <button class=\"colab-df-convert\" onclick=\"convertToInteractive('df-1dd9313d-ec51-44fd-ab84-4eca0f6c9e12')\"\n",
              "            title=\"Convert this dataframe to an interactive table.\"\n",
              "            style=\"display:none;\">\n",
              "\n",
              "  <svg xmlns=\"http://www.w3.org/2000/svg\" height=\"24px\" viewBox=\"0 -960 960 960\">\n",
              "    <path d=\"M120-120v-720h720v720H120Zm60-500h600v-160H180v160Zm220 220h160v-160H400v160Zm0 220h160v-160H400v160ZM180-400h160v-160H180v160Zm440 0h160v-160H620v160ZM180-180h160v-160H180v160Zm440 0h160v-160H620v160Z\"/>\n",
              "  </svg>\n",
              "    </button>\n",
              "\n",
              "  <style>\n",
              "    .colab-df-container {\n",
              "      display:flex;\n",
              "      gap: 12px;\n",
              "    }\n",
              "\n",
              "    .colab-df-convert {\n",
              "      background-color: #E8F0FE;\n",
              "      border: none;\n",
              "      border-radius: 50%;\n",
              "      cursor: pointer;\n",
              "      display: none;\n",
              "      fill: #1967D2;\n",
              "      height: 32px;\n",
              "      padding: 0 0 0 0;\n",
              "      width: 32px;\n",
              "    }\n",
              "\n",
              "    .colab-df-convert:hover {\n",
              "      background-color: #E2EBFA;\n",
              "      box-shadow: 0px 1px 2px rgba(60, 64, 67, 0.3), 0px 1px 3px 1px rgba(60, 64, 67, 0.15);\n",
              "      fill: #174EA6;\n",
              "    }\n",
              "\n",
              "    .colab-df-buttons div {\n",
              "      margin-bottom: 4px;\n",
              "    }\n",
              "\n",
              "    [theme=dark] .colab-df-convert {\n",
              "      background-color: #3B4455;\n",
              "      fill: #D2E3FC;\n",
              "    }\n",
              "\n",
              "    [theme=dark] .colab-df-convert:hover {\n",
              "      background-color: #434B5C;\n",
              "      box-shadow: 0px 1px 3px 1px rgba(0, 0, 0, 0.15);\n",
              "      filter: drop-shadow(0px 1px 2px rgba(0, 0, 0, 0.3));\n",
              "      fill: #FFFFFF;\n",
              "    }\n",
              "  </style>\n",
              "\n",
              "    <script>\n",
              "      const buttonEl =\n",
              "        document.querySelector('#df-1dd9313d-ec51-44fd-ab84-4eca0f6c9e12 button.colab-df-convert');\n",
              "      buttonEl.style.display =\n",
              "        google.colab.kernel.accessAllowed ? 'block' : 'none';\n",
              "\n",
              "      async function convertToInteractive(key) {\n",
              "        const element = document.querySelector('#df-1dd9313d-ec51-44fd-ab84-4eca0f6c9e12');\n",
              "        const dataTable =\n",
              "          await google.colab.kernel.invokeFunction('convertToInteractive',\n",
              "                                                    [key], {});\n",
              "        if (!dataTable) return;\n",
              "\n",
              "        const docLinkHtml = 'Like what you see? Visit the ' +\n",
              "          '<a target=\"_blank\" href=https://colab.research.google.com/notebooks/data_table.ipynb>data table notebook</a>'\n",
              "          + ' to learn more about interactive tables.';\n",
              "        element.innerHTML = '';\n",
              "        dataTable['output_type'] = 'display_data';\n",
              "        await google.colab.output.renderOutput(dataTable, element);\n",
              "        const docLink = document.createElement('div');\n",
              "        docLink.innerHTML = docLinkHtml;\n",
              "        element.appendChild(docLink);\n",
              "      }\n",
              "    </script>\n",
              "  </div>\n",
              "\n",
              "\n",
              "<div id=\"df-c711f954-7748-4f27-a3ee-a714958da78d\">\n",
              "  <button class=\"colab-df-quickchart\" onclick=\"quickchart('df-c711f954-7748-4f27-a3ee-a714958da78d')\"\n",
              "            title=\"Suggest charts\"\n",
              "            style=\"display:none;\">\n",
              "\n",
              "<svg xmlns=\"http://www.w3.org/2000/svg\" height=\"24px\"viewBox=\"0 0 24 24\"\n",
              "     width=\"24px\">\n",
              "    <g>\n",
              "        <path d=\"M19 3H5c-1.1 0-2 .9-2 2v14c0 1.1.9 2 2 2h14c1.1 0 2-.9 2-2V5c0-1.1-.9-2-2-2zM9 17H7v-7h2v7zm4 0h-2V7h2v10zm4 0h-2v-4h2v4z\"/>\n",
              "    </g>\n",
              "</svg>\n",
              "  </button>\n",
              "\n",
              "<style>\n",
              "  .colab-df-quickchart {\n",
              "      --bg-color: #E8F0FE;\n",
              "      --fill-color: #1967D2;\n",
              "      --hover-bg-color: #E2EBFA;\n",
              "      --hover-fill-color: #174EA6;\n",
              "      --disabled-fill-color: #AAA;\n",
              "      --disabled-bg-color: #DDD;\n",
              "  }\n",
              "\n",
              "  [theme=dark] .colab-df-quickchart {\n",
              "      --bg-color: #3B4455;\n",
              "      --fill-color: #D2E3FC;\n",
              "      --hover-bg-color: #434B5C;\n",
              "      --hover-fill-color: #FFFFFF;\n",
              "      --disabled-bg-color: #3B4455;\n",
              "      --disabled-fill-color: #666;\n",
              "  }\n",
              "\n",
              "  .colab-df-quickchart {\n",
              "    background-color: var(--bg-color);\n",
              "    border: none;\n",
              "    border-radius: 50%;\n",
              "    cursor: pointer;\n",
              "    display: none;\n",
              "    fill: var(--fill-color);\n",
              "    height: 32px;\n",
              "    padding: 0;\n",
              "    width: 32px;\n",
              "  }\n",
              "\n",
              "  .colab-df-quickchart:hover {\n",
              "    background-color: var(--hover-bg-color);\n",
              "    box-shadow: 0 1px 2px rgba(60, 64, 67, 0.3), 0 1px 3px 1px rgba(60, 64, 67, 0.15);\n",
              "    fill: var(--button-hover-fill-color);\n",
              "  }\n",
              "\n",
              "  .colab-df-quickchart-complete:disabled,\n",
              "  .colab-df-quickchart-complete:disabled:hover {\n",
              "    background-color: var(--disabled-bg-color);\n",
              "    fill: var(--disabled-fill-color);\n",
              "    box-shadow: none;\n",
              "  }\n",
              "\n",
              "  .colab-df-spinner {\n",
              "    border: 2px solid var(--fill-color);\n",
              "    border-color: transparent;\n",
              "    border-bottom-color: var(--fill-color);\n",
              "    animation:\n",
              "      spin 1s steps(1) infinite;\n",
              "  }\n",
              "\n",
              "  @keyframes spin {\n",
              "    0% {\n",
              "      border-color: transparent;\n",
              "      border-bottom-color: var(--fill-color);\n",
              "      border-left-color: var(--fill-color);\n",
              "    }\n",
              "    20% {\n",
              "      border-color: transparent;\n",
              "      border-left-color: var(--fill-color);\n",
              "      border-top-color: var(--fill-color);\n",
              "    }\n",
              "    30% {\n",
              "      border-color: transparent;\n",
              "      border-left-color: var(--fill-color);\n",
              "      border-top-color: var(--fill-color);\n",
              "      border-right-color: var(--fill-color);\n",
              "    }\n",
              "    40% {\n",
              "      border-color: transparent;\n",
              "      border-right-color: var(--fill-color);\n",
              "      border-top-color: var(--fill-color);\n",
              "    }\n",
              "    60% {\n",
              "      border-color: transparent;\n",
              "      border-right-color: var(--fill-color);\n",
              "    }\n",
              "    80% {\n",
              "      border-color: transparent;\n",
              "      border-right-color: var(--fill-color);\n",
              "      border-bottom-color: var(--fill-color);\n",
              "    }\n",
              "    90% {\n",
              "      border-color: transparent;\n",
              "      border-bottom-color: var(--fill-color);\n",
              "    }\n",
              "  }\n",
              "</style>\n",
              "\n",
              "  <script>\n",
              "    async function quickchart(key) {\n",
              "      const quickchartButtonEl =\n",
              "        document.querySelector('#' + key + ' button');\n",
              "      quickchartButtonEl.disabled = true;  // To prevent multiple clicks.\n",
              "      quickchartButtonEl.classList.add('colab-df-spinner');\n",
              "      try {\n",
              "        const charts = await google.colab.kernel.invokeFunction(\n",
              "            'suggestCharts', [key], {});\n",
              "      } catch (error) {\n",
              "        console.error('Error during call to suggestCharts:', error);\n",
              "      }\n",
              "      quickchartButtonEl.classList.remove('colab-df-spinner');\n",
              "      quickchartButtonEl.classList.add('colab-df-quickchart-complete');\n",
              "    }\n",
              "    (() => {\n",
              "      let quickchartButtonEl =\n",
              "        document.querySelector('#df-c711f954-7748-4f27-a3ee-a714958da78d button');\n",
              "      quickchartButtonEl.style.display =\n",
              "        google.colab.kernel.accessAllowed ? 'block' : 'none';\n",
              "    })();\n",
              "  </script>\n",
              "</div>\n",
              "    </div>\n",
              "  </div>\n"
            ],
            "application/vnd.google.colaboratory.intrinsic+json": {
              "type": "dataframe",
              "variable_name": "master_dataset"
            }
          },
          "metadata": {},
          "execution_count": 14
        }
      ]
    },
    {
      "cell_type": "code",
      "source": [
        "print(master_dataset.columns)"
      ],
      "metadata": {
        "colab": {
          "base_uri": "https://localhost:8080/"
        },
        "id": "pbSAFU9X-vGh",
        "outputId": "dde4b424-de51-4d5e-8e1c-d22ec22ff4c3"
      },
      "execution_count": null,
      "outputs": [
        {
          "output_type": "stream",
          "name": "stdout",
          "text": [
            "Index(['adult', 'belongs_to_collection', 'budget', 'genres', 'homepage', 'id',\n",
            "       'imdb_id', 'original_language', 'original_title', 'overview',\n",
            "       'popularity', 'poster_path', 'production_companies',\n",
            "       'production_countries', 'release_date', 'revenue', 'runtime',\n",
            "       'spoken_languages', 'status', 'tagline', 'title', 'video',\n",
            "       'vote_average', 'vote_count', 'cast', 'crew', 'keywords'],\n",
            "      dtype='object')\n"
          ]
        }
      ]
    },
    {
      "cell_type": "code",
      "source": [
        "links = links[links['tmdbId'].notnull()]['tmdbId'].astype('int')\n",
        "master_dataset = master_dataset[master_dataset['id'].isin(links)]\n",
        "print(master_dataset.shape)"
      ],
      "metadata": {
        "colab": {
          "base_uri": "https://localhost:8080/"
        },
        "id": "0Yw0oWEY2xk3",
        "outputId": "6e2f2a07-2d3f-4dea-9f77-5c93cb2509a4"
      },
      "execution_count": null,
      "outputs": [
        {
          "output_type": "stream",
          "name": "stdout",
          "text": [
            "(46628, 27)\n"
          ]
        }
      ]
    },
    {
      "cell_type": "markdown",
      "source": [
        "#### 3: Data cleaning and Engineering"
      ],
      "metadata": {
        "id": "oVnHryY-_Tgi"
      }
    },
    {
      "cell_type": "code",
      "source": [
        "## Updating cast, crew and keyword columns by parsing them as their loaded data type is string but need to be converted to list\n",
        "master_dataset['cast']      = master_dataset['cast'].apply(literal_eval)\n",
        "master_dataset['crew']      = master_dataset['crew'].apply(literal_eval)\n",
        "master_dataset['keywords']  = master_dataset['keywords'].apply(literal_eval)"
      ],
      "metadata": {
        "id": "gJYGvLA_2xis"
      },
      "execution_count": null,
      "outputs": []
    },
    {
      "cell_type": "code",
      "source": [
        "## Updating cast to maintain proportion between different lengths (keeping top 3 cast members)\n",
        "master_dataset['cast']      = master_dataset['cast'].apply(lambda x: [i['name'] for i in x] if isinstance(x, list) else [])\n",
        "master_dataset['cast']      = master_dataset['cast'].apply(lambda x: x[:3] if len(x) >=3 else x)\n",
        "\n",
        "## Setting keywords to empty list if does not exists, otherwise taking into account for each word as keyword\n",
        "master_dataset['keywords']  = master_dataset['keywords'].apply(lambda x: [i['name'] for i in x] if isinstance(x, list) else [])\n",
        "\n",
        "## Extracting directory names from the crew\n",
        "master_dataset['director']  = master_dataset['crew'].apply(get_director)"
      ],
      "metadata": {
        "id": "MTXcRtg72xgX"
      },
      "execution_count": null,
      "outputs": []
    },
    {
      "cell_type": "code",
      "source": [
        "## for uniqueness, removing all the spaces in between the names\n",
        "master_dataset['cast']          = master_dataset['cast'].apply(lambda x: [str.lower(i.replace(\" \", \"\")) for i in x])\n",
        "\n",
        "## Maintaining the original director name as main director\n",
        "master_dataset['main_director'] = master_dataset['director']\n",
        "\n",
        "## Maintaining the number of director to maintain proportion (similar to cast column above)\n",
        "master_dataset['director']      = master_dataset['director'].astype('str').apply(lambda x: str.lower(x.replace(\" \", \"\")))\n",
        "master_dataset['director']      = master_dataset['director'].apply(lambda x: [x,x,x])"
      ],
      "metadata": {
        "id": "Jaqq7Wwk-E2-"
      },
      "execution_count": null,
      "outputs": []
    },
    {
      "cell_type": "code",
      "source": [
        "## Stacking the keywords and keeping the movies which containers X number of keywords as minimum\n",
        "s = master_dataset.apply(lambda x: pd.Series(x['keywords']),axis=1).stack().reset_index(level=1, drop=True)\n",
        "s.name = 'keyword'\n",
        "s = s.value_counts()\n",
        "print(s[:5])"
      ],
      "metadata": {
        "colab": {
          "base_uri": "https://localhost:8080/"
        },
        "id": "PKR9dFAL-G63",
        "outputId": "2d171cc8-5830-4be3-f2b5-82a88cc9a4a0"
      },
      "execution_count": null,
      "outputs": [
        {
          "output_type": "stream",
          "name": "stdout",
          "text": [
            "keyword\n",
            "woman director      3128\n",
            "independent film    1942\n",
            "murder              1314\n",
            "based on novel       841\n",
            "musical              734\n",
            "Name: count, dtype: int64\n"
          ]
        }
      ]
    },
    {
      "cell_type": "code",
      "source": [
        "## Will try to map where more than 1 keyword is present for the movie\n",
        "s = s[s > 1]"
      ],
      "metadata": {
        "id": "jN2OJj8H-I-V"
      },
      "execution_count": null,
      "outputs": []
    },
    {
      "cell_type": "code",
      "source": [
        "## creating an object for ENGLISH Stemmer - Snowball to trim down keywords to their stem words\n",
        "stemmer                     = SnowballStemmer('english')\n",
        "\n",
        "## Trim down keywords to their stem words and then remove the space between keywords which are having more than 1 length for uniqueness\n",
        "master_dataset['keywords']  = master_dataset['keywords'].apply(lambda x: [stemmer.stem(i) for i in x])\n",
        "master_dataset['keywords']  = master_dataset['keywords'].apply(lambda x: [str.lower(i.replace(\" \", \"\")) for i in x])"
      ],
      "metadata": {
        "id": "j3lSxkmC-N-h"
      },
      "execution_count": null,
      "outputs": []
    },
    {
      "cell_type": "code",
      "source": [
        "master_dataset['keywords'].head(3)"
      ],
      "metadata": {
        "colab": {
          "base_uri": "https://localhost:8080/"
        },
        "id": "3n-PuVspO2fI",
        "outputId": "1da010fb-99a8-457f-879e-def3a3bbc3f8"
      },
      "execution_count": null,
      "outputs": [
        {
          "output_type": "execute_result",
          "data": {
            "text/plain": [
              "0    [jealousi, toy, boy, friendship, friend, rival...\n",
              "1    [boardgam, disappear, basedonchildren'sbook, n...\n",
              "2       [fish, bestfriend, duringcreditssting, oldmen]\n",
              "Name: keywords, dtype: object"
            ]
          },
          "metadata": {},
          "execution_count": 23
        }
      ]
    },
    {
      "cell_type": "code",
      "source": [
        "## Creating a soup feature - combination of (keywords, cast, director, genres)\n",
        "master_dataset['soup'] = master_dataset['keywords'] + master_dataset['cast'] + master_dataset['director'] + master_dataset['genres']\n",
        "\n",
        "## Modifying by placing single space between all the soup words\n",
        "master_dataset['soup'] = master_dataset['soup'].apply(lambda x: ' '.join(x))"
      ],
      "metadata": {
        "id": "uSncyfonOyvC"
      },
      "execution_count": null,
      "outputs": []
    },
    {
      "cell_type": "code",
      "source": [
        "master_dataset['soup'].head(3)"
      ],
      "metadata": {
        "colab": {
          "base_uri": "https://localhost:8080/"
        },
        "id": "_kIbzUnHPBBD",
        "outputId": "1370e380-cd41-4b13-d52a-6c372dd97748"
      },
      "execution_count": null,
      "outputs": [
        {
          "output_type": "execute_result",
          "data": {
            "text/plain": [
              "0    jealousi toy boy friendship friend rivalri boy...\n",
              "1    boardgam disappear basedonchildren'sbook newho...\n",
              "2    fish bestfriend duringcreditssting oldmen walt...\n",
              "Name: soup, dtype: object"
            ]
          },
          "metadata": {},
          "execution_count": 25
        }
      ]
    },
    {
      "cell_type": "code",
      "source": [
        "print(master_dataset.columns)"
      ],
      "metadata": {
        "colab": {
          "base_uri": "https://localhost:8080/"
        },
        "id": "6LaAIqSo-chN",
        "outputId": "1711361f-c8bb-436d-dc15-c06c512503d3"
      },
      "execution_count": null,
      "outputs": [
        {
          "output_type": "stream",
          "name": "stdout",
          "text": [
            "Index(['adult', 'belongs_to_collection', 'budget', 'genres', 'homepage', 'id',\n",
            "       'imdb_id', 'original_language', 'original_title', 'overview',\n",
            "       'popularity', 'poster_path', 'production_companies',\n",
            "       'production_countries', 'release_date', 'revenue', 'runtime',\n",
            "       'spoken_languages', 'status', 'tagline', 'title', 'video',\n",
            "       'vote_average', 'vote_count', 'cast', 'crew', 'keywords', 'director',\n",
            "       'main_director', 'soup'],\n",
            "      dtype='object')\n"
          ]
        }
      ]
    },
    {
      "cell_type": "code",
      "source": [
        "## Removing unwanted columns from the dataset - these features can be used if you wish to add more features to your recommender system.\n",
        "## We are not going to use them, so we are removing them.\n",
        "master_dataset.drop(['adult', 'belongs_to_collection', 'budget','homepage','original_language', 'production_companies','production_countries', 'revenue', 'runtime','spoken_languages','status','video'],axis=1,inplace=True)\n",
        "master_dataset.drop(['overview', 'tagline','vote_average', 'vote_count', 'cast', 'crew','keywords', 'director'],axis=1,inplace=True)\n",
        "master_dataset.drop(['id','imdb_id','original_title','poster_path','genres'],axis=1,inplace=True)"
      ],
      "metadata": {
        "id": "GfmKSQ3f-d0e"
      },
      "execution_count": null,
      "outputs": []
    },
    {
      "cell_type": "code",
      "source": [
        "## Checking popularity column for being non-float data type and removing them\n",
        "master_dataset['popularity']    = master_dataset.apply(lambda r: r['popularity'] if type(r['popularity'])==float else np.nan, axis=1)\n",
        "master_dataset.dropna(inplace=True)\n",
        "\n",
        "## Checking director column for being non-string data type and removing them\n",
        "master_dataset['main_director'] = master_dataset.apply(lambda r: r['main_director'] if len(r['main_director'])>1 else np.nan, axis=1)\n",
        "master_dataset.dropna(inplace=True)"
      ],
      "metadata": {
        "id": "tTN76P-3QF6Q"
      },
      "execution_count": null,
      "outputs": []
    },
    {
      "cell_type": "code",
      "source": [
        "## Sorting the whole dataset based on popularity. This will help us to take top X number of movies based on popularity.\n",
        "master_dataset.sort_values(by=['popularity'],ascending=False,inplace=True)\n",
        "\n",
        "## Dropping popularity column after sorting based on popularity\n",
        "master_dataset.drop(['popularity'],axis=1,inplace=True)\n",
        "master_dataset.dropna(inplace=True)"
      ],
      "metadata": {
        "id": "ovSdqYXFPw0x"
      },
      "execution_count": null,
      "outputs": []
    },
    {
      "cell_type": "code",
      "source": [
        "## Reset index because after sorting, the index values have changed.\n",
        "master_dataset.reset_index(inplace=True,drop=True)"
      ],
      "metadata": {
        "id": "5t60gsB6Qjh3"
      },
      "execution_count": null,
      "outputs": []
    },
    {
      "cell_type": "code",
      "source": [
        "## Checking release date column for being non-string data type and removing them\n",
        "master_dataset['release_date'] = master_dataset.apply(lambda r: r['release_date'] if len(r['release_date'])>1 else np.nan, axis=1)\n",
        "master_dataset.dropna(inplace=True)"
      ],
      "metadata": {
        "id": "PaqeTa8DZrEz"
      },
      "execution_count": null,
      "outputs": []
    },
    {
      "cell_type": "markdown",
      "source": [
        "---\n",
        "\n",
        "IMPORTANT NOTE:\n",
        "\n",
        "The following cell contains comments based on different sizes of models which can be created. If you happen to have Google Colab Pro account or your local system has atleast 32Gb RAM, you may run the full dataset. Otherwise, it is adviced to run smaller dataset which fits your memory.\n",
        "\n",
        "---"
      ],
      "metadata": {
        "id": "9Zwz3zm9HOlU"
      }
    },
    {
      "cell_type": "code",
      "source": [
        "## For Demo, we will take top 2500 movies, which is hosted online already.\n",
        "master_dataset = master_dataset[:2500]\n",
        "\n",
        "## For Tiny-Model, we will take top 1000 movies\n",
        "# master_dataset = master_dataset[:1000]\n",
        "\n",
        "## For Extra-Small-Model, we will take top 5000 movies\n",
        "# master_dataset = master_dataset[:5000]\n",
        "\n",
        "## For Small-Model, we will take top 10000 movies\n",
        "# master_dataset = master_dataset[:10000]\n",
        "\n",
        "## For Medium-Model, we will take top 20000 movies\n",
        "# master_dataset = master_dataset[:20000]\n",
        "\n",
        "## For Large-Model, we will take top 30000 movies\n",
        "# master_dataset = master_dataset[:30000]\n",
        "\n",
        "## LEAVE ALL THE LINES COMMENTED IF YOU WISH TO TRAIN FULL MOVIES DATASET."
      ],
      "metadata": {
        "id": "6Vx_CcUnQqLR"
      },
      "execution_count": null,
      "outputs": []
    },
    {
      "cell_type": "markdown",
      "source": [
        "---"
      ],
      "metadata": {
        "id": "hpL1QTwOIgH7"
      }
    },
    {
      "cell_type": "code",
      "source": [
        "## This is our final dataset which we will be using for training our word and cosine similarity matrix\n",
        "master_dataset.head()"
      ],
      "metadata": {
        "colab": {
          "base_uri": "https://localhost:8080/",
          "height": 206
        },
        "id": "XRz17iHZZnRc",
        "outputId": "c02b4c32-b7df-46fc-89bd-7964c2169e44"
      },
      "execution_count": null,
      "outputs": [
        {
          "output_type": "execute_result",
          "data": {
            "text/plain": [
              "  release_date                           title   main_director  \\\n",
              "0   2015-06-17                         Minions      Kyle Balda   \n",
              "1   2014-10-24                      Big Hero 6  Chris Williams   \n",
              "2   2016-02-09                        Deadpool      Tim Miller   \n",
              "3   2017-04-19  Guardians of the Galaxy Vol. 2      James Gunn   \n",
              "4   2009-12-10                          Avatar   James Cameron   \n",
              "\n",
              "                                                soup  \n",
              "0  assist aftercreditssting duringcreditssting ev...  \n",
              "1  brotherbrotherrelationship hero talent reveng ...  \n",
              "2  antihero mercenari marvelcom superhero basedon...  \n",
              "3  sequel superhero basedoncom misfit space outer...  \n",
              "4  cultureclash futur spacewar spacecoloni societ...  "
            ],
            "text/html": [
              "\n",
              "  <div id=\"df-232ac416-4481-4fc6-b6d1-bc8619508402\" class=\"colab-df-container\">\n",
              "    <div>\n",
              "<style scoped>\n",
              "    .dataframe tbody tr th:only-of-type {\n",
              "        vertical-align: middle;\n",
              "    }\n",
              "\n",
              "    .dataframe tbody tr th {\n",
              "        vertical-align: top;\n",
              "    }\n",
              "\n",
              "    .dataframe thead th {\n",
              "        text-align: right;\n",
              "    }\n",
              "</style>\n",
              "<table border=\"1\" class=\"dataframe\">\n",
              "  <thead>\n",
              "    <tr style=\"text-align: right;\">\n",
              "      <th></th>\n",
              "      <th>release_date</th>\n",
              "      <th>title</th>\n",
              "      <th>main_director</th>\n",
              "      <th>soup</th>\n",
              "    </tr>\n",
              "  </thead>\n",
              "  <tbody>\n",
              "    <tr>\n",
              "      <th>0</th>\n",
              "      <td>2015-06-17</td>\n",
              "      <td>Minions</td>\n",
              "      <td>Kyle Balda</td>\n",
              "      <td>assist aftercreditssting duringcreditssting ev...</td>\n",
              "    </tr>\n",
              "    <tr>\n",
              "      <th>1</th>\n",
              "      <td>2014-10-24</td>\n",
              "      <td>Big Hero 6</td>\n",
              "      <td>Chris Williams</td>\n",
              "      <td>brotherbrotherrelationship hero talent reveng ...</td>\n",
              "    </tr>\n",
              "    <tr>\n",
              "      <th>2</th>\n",
              "      <td>2016-02-09</td>\n",
              "      <td>Deadpool</td>\n",
              "      <td>Tim Miller</td>\n",
              "      <td>antihero mercenari marvelcom superhero basedon...</td>\n",
              "    </tr>\n",
              "    <tr>\n",
              "      <th>3</th>\n",
              "      <td>2017-04-19</td>\n",
              "      <td>Guardians of the Galaxy Vol. 2</td>\n",
              "      <td>James Gunn</td>\n",
              "      <td>sequel superhero basedoncom misfit space outer...</td>\n",
              "    </tr>\n",
              "    <tr>\n",
              "      <th>4</th>\n",
              "      <td>2009-12-10</td>\n",
              "      <td>Avatar</td>\n",
              "      <td>James Cameron</td>\n",
              "      <td>cultureclash futur spacewar spacecoloni societ...</td>\n",
              "    </tr>\n",
              "  </tbody>\n",
              "</table>\n",
              "</div>\n",
              "    <div class=\"colab-df-buttons\">\n",
              "\n",
              "  <div class=\"colab-df-container\">\n",
              "    <button class=\"colab-df-convert\" onclick=\"convertToInteractive('df-232ac416-4481-4fc6-b6d1-bc8619508402')\"\n",
              "            title=\"Convert this dataframe to an interactive table.\"\n",
              "            style=\"display:none;\">\n",
              "\n",
              "  <svg xmlns=\"http://www.w3.org/2000/svg\" height=\"24px\" viewBox=\"0 -960 960 960\">\n",
              "    <path d=\"M120-120v-720h720v720H120Zm60-500h600v-160H180v160Zm220 220h160v-160H400v160Zm0 220h160v-160H400v160ZM180-400h160v-160H180v160Zm440 0h160v-160H620v160ZM180-180h160v-160H180v160Zm440 0h160v-160H620v160Z\"/>\n",
              "  </svg>\n",
              "    </button>\n",
              "\n",
              "  <style>\n",
              "    .colab-df-container {\n",
              "      display:flex;\n",
              "      gap: 12px;\n",
              "    }\n",
              "\n",
              "    .colab-df-convert {\n",
              "      background-color: #E8F0FE;\n",
              "      border: none;\n",
              "      border-radius: 50%;\n",
              "      cursor: pointer;\n",
              "      display: none;\n",
              "      fill: #1967D2;\n",
              "      height: 32px;\n",
              "      padding: 0 0 0 0;\n",
              "      width: 32px;\n",
              "    }\n",
              "\n",
              "    .colab-df-convert:hover {\n",
              "      background-color: #E2EBFA;\n",
              "      box-shadow: 0px 1px 2px rgba(60, 64, 67, 0.3), 0px 1px 3px 1px rgba(60, 64, 67, 0.15);\n",
              "      fill: #174EA6;\n",
              "    }\n",
              "\n",
              "    .colab-df-buttons div {\n",
              "      margin-bottom: 4px;\n",
              "    }\n",
              "\n",
              "    [theme=dark] .colab-df-convert {\n",
              "      background-color: #3B4455;\n",
              "      fill: #D2E3FC;\n",
              "    }\n",
              "\n",
              "    [theme=dark] .colab-df-convert:hover {\n",
              "      background-color: #434B5C;\n",
              "      box-shadow: 0px 1px 3px 1px rgba(0, 0, 0, 0.15);\n",
              "      filter: drop-shadow(0px 1px 2px rgba(0, 0, 0, 0.3));\n",
              "      fill: #FFFFFF;\n",
              "    }\n",
              "  </style>\n",
              "\n",
              "    <script>\n",
              "      const buttonEl =\n",
              "        document.querySelector('#df-232ac416-4481-4fc6-b6d1-bc8619508402 button.colab-df-convert');\n",
              "      buttonEl.style.display =\n",
              "        google.colab.kernel.accessAllowed ? 'block' : 'none';\n",
              "\n",
              "      async function convertToInteractive(key) {\n",
              "        const element = document.querySelector('#df-232ac416-4481-4fc6-b6d1-bc8619508402');\n",
              "        const dataTable =\n",
              "          await google.colab.kernel.invokeFunction('convertToInteractive',\n",
              "                                                    [key], {});\n",
              "        if (!dataTable) return;\n",
              "\n",
              "        const docLinkHtml = 'Like what you see? Visit the ' +\n",
              "          '<a target=\"_blank\" href=https://colab.research.google.com/notebooks/data_table.ipynb>data table notebook</a>'\n",
              "          + ' to learn more about interactive tables.';\n",
              "        element.innerHTML = '';\n",
              "        dataTable['output_type'] = 'display_data';\n",
              "        await google.colab.output.renderOutput(dataTable, element);\n",
              "        const docLink = document.createElement('div');\n",
              "        docLink.innerHTML = docLinkHtml;\n",
              "        element.appendChild(docLink);\n",
              "      }\n",
              "    </script>\n",
              "  </div>\n",
              "\n",
              "\n",
              "<div id=\"df-3ec3f534-9df2-47ef-825a-e97ca9bdfc4a\">\n",
              "  <button class=\"colab-df-quickchart\" onclick=\"quickchart('df-3ec3f534-9df2-47ef-825a-e97ca9bdfc4a')\"\n",
              "            title=\"Suggest charts\"\n",
              "            style=\"display:none;\">\n",
              "\n",
              "<svg xmlns=\"http://www.w3.org/2000/svg\" height=\"24px\"viewBox=\"0 0 24 24\"\n",
              "     width=\"24px\">\n",
              "    <g>\n",
              "        <path d=\"M19 3H5c-1.1 0-2 .9-2 2v14c0 1.1.9 2 2 2h14c1.1 0 2-.9 2-2V5c0-1.1-.9-2-2-2zM9 17H7v-7h2v7zm4 0h-2V7h2v10zm4 0h-2v-4h2v4z\"/>\n",
              "    </g>\n",
              "</svg>\n",
              "  </button>\n",
              "\n",
              "<style>\n",
              "  .colab-df-quickchart {\n",
              "      --bg-color: #E8F0FE;\n",
              "      --fill-color: #1967D2;\n",
              "      --hover-bg-color: #E2EBFA;\n",
              "      --hover-fill-color: #174EA6;\n",
              "      --disabled-fill-color: #AAA;\n",
              "      --disabled-bg-color: #DDD;\n",
              "  }\n",
              "\n",
              "  [theme=dark] .colab-df-quickchart {\n",
              "      --bg-color: #3B4455;\n",
              "      --fill-color: #D2E3FC;\n",
              "      --hover-bg-color: #434B5C;\n",
              "      --hover-fill-color: #FFFFFF;\n",
              "      --disabled-bg-color: #3B4455;\n",
              "      --disabled-fill-color: #666;\n",
              "  }\n",
              "\n",
              "  .colab-df-quickchart {\n",
              "    background-color: var(--bg-color);\n",
              "    border: none;\n",
              "    border-radius: 50%;\n",
              "    cursor: pointer;\n",
              "    display: none;\n",
              "    fill: var(--fill-color);\n",
              "    height: 32px;\n",
              "    padding: 0;\n",
              "    width: 32px;\n",
              "  }\n",
              "\n",
              "  .colab-df-quickchart:hover {\n",
              "    background-color: var(--hover-bg-color);\n",
              "    box-shadow: 0 1px 2px rgba(60, 64, 67, 0.3), 0 1px 3px 1px rgba(60, 64, 67, 0.15);\n",
              "    fill: var(--button-hover-fill-color);\n",
              "  }\n",
              "\n",
              "  .colab-df-quickchart-complete:disabled,\n",
              "  .colab-df-quickchart-complete:disabled:hover {\n",
              "    background-color: var(--disabled-bg-color);\n",
              "    fill: var(--disabled-fill-color);\n",
              "    box-shadow: none;\n",
              "  }\n",
              "\n",
              "  .colab-df-spinner {\n",
              "    border: 2px solid var(--fill-color);\n",
              "    border-color: transparent;\n",
              "    border-bottom-color: var(--fill-color);\n",
              "    animation:\n",
              "      spin 1s steps(1) infinite;\n",
              "  }\n",
              "\n",
              "  @keyframes spin {\n",
              "    0% {\n",
              "      border-color: transparent;\n",
              "      border-bottom-color: var(--fill-color);\n",
              "      border-left-color: var(--fill-color);\n",
              "    }\n",
              "    20% {\n",
              "      border-color: transparent;\n",
              "      border-left-color: var(--fill-color);\n",
              "      border-top-color: var(--fill-color);\n",
              "    }\n",
              "    30% {\n",
              "      border-color: transparent;\n",
              "      border-left-color: var(--fill-color);\n",
              "      border-top-color: var(--fill-color);\n",
              "      border-right-color: var(--fill-color);\n",
              "    }\n",
              "    40% {\n",
              "      border-color: transparent;\n",
              "      border-right-color: var(--fill-color);\n",
              "      border-top-color: var(--fill-color);\n",
              "    }\n",
              "    60% {\n",
              "      border-color: transparent;\n",
              "      border-right-color: var(--fill-color);\n",
              "    }\n",
              "    80% {\n",
              "      border-color: transparent;\n",
              "      border-right-color: var(--fill-color);\n",
              "      border-bottom-color: var(--fill-color);\n",
              "    }\n",
              "    90% {\n",
              "      border-color: transparent;\n",
              "      border-bottom-color: var(--fill-color);\n",
              "    }\n",
              "  }\n",
              "</style>\n",
              "\n",
              "  <script>\n",
              "    async function quickchart(key) {\n",
              "      const quickchartButtonEl =\n",
              "        document.querySelector('#' + key + ' button');\n",
              "      quickchartButtonEl.disabled = true;  // To prevent multiple clicks.\n",
              "      quickchartButtonEl.classList.add('colab-df-spinner');\n",
              "      try {\n",
              "        const charts = await google.colab.kernel.invokeFunction(\n",
              "            'suggestCharts', [key], {});\n",
              "      } catch (error) {\n",
              "        console.error('Error during call to suggestCharts:', error);\n",
              "      }\n",
              "      quickchartButtonEl.classList.remove('colab-df-spinner');\n",
              "      quickchartButtonEl.classList.add('colab-df-quickchart-complete');\n",
              "    }\n",
              "    (() => {\n",
              "      let quickchartButtonEl =\n",
              "        document.querySelector('#df-3ec3f534-9df2-47ef-825a-e97ca9bdfc4a button');\n",
              "      quickchartButtonEl.style.display =\n",
              "        google.colab.kernel.accessAllowed ? 'block' : 'none';\n",
              "    })();\n",
              "  </script>\n",
              "</div>\n",
              "    </div>\n",
              "  </div>\n"
            ],
            "application/vnd.google.colaboratory.intrinsic+json": {
              "type": "dataframe",
              "variable_name": "master_dataset",
              "summary": "{\n  \"name\": \"master_dataset\",\n  \"rows\": 2500,\n  \"fields\": [\n    {\n      \"column\": \"release_date\",\n      \"properties\": {\n        \"dtype\": \"object\",\n        \"num_unique_values\": 2141,\n        \"samples\": [\n          \"1969-10-15\",\n          \"1993-03-19\",\n          \"1979-06-22\"\n        ],\n        \"semantic_type\": \"\",\n        \"description\": \"\"\n      }\n    },\n    {\n      \"column\": \"title\",\n      \"properties\": {\n        \"dtype\": \"string\",\n        \"num_unique_values\": 2445,\n        \"samples\": [\n          \"The Living Daylights\",\n          \"Wedding Crashers\",\n          \"The Indian in the Cupboard\"\n        ],\n        \"semantic_type\": \"\",\n        \"description\": \"\"\n      }\n    },\n    {\n      \"column\": \"main_director\",\n      \"properties\": {\n        \"dtype\": \"string\",\n        \"num_unique_values\": 1359,\n        \"samples\": [\n          \"Steve McQueen\",\n          \"James Dodson\",\n          \"Maxime Govare\"\n        ],\n        \"semantic_type\": \"\",\n        \"description\": \"\"\n      }\n    },\n    {\n      \"column\": \"soup\",\n      \"properties\": {\n        \"dtype\": \"string\",\n        \"num_unique_values\": 2487,\n        \"samples\": [\n          \"cropdust fighterjet anthropomorph danecook carlosalazraqui valkilmer klayhall klayhall klayhall Animation Family Adventure Comedy\",\n          \"gay mountrushmorenationalmemori swearword hell worldsupremaci elementaryschool saddamhussein bloodsplatt atheist sequel surreal friendswhohateeachoth satan basedontvseri cartoonsex childswear visionsofhel u.s.canadawar shottodeath demon adultanim southparkcolorado treyparker mattstone marykaybergman treyparker treyparker treyparker Animation Comedy Music\",\n          \"premonit deathbyaccid crash endisher duringcreditssting 3d emmabell nicholasd'agosto milesfisher stevenquale stevenquale stevenquale Horror Mystery\"\n        ],\n        \"semantic_type\": \"\",\n        \"description\": \"\"\n      }\n    }\n  ]\n}"
            }
          },
          "metadata": {},
          "execution_count": 33
        }
      ]
    },
    {
      "cell_type": "code",
      "source": [
        "print(master_dataset.shape)"
      ],
      "metadata": {
        "colab": {
          "base_uri": "https://localhost:8080/"
        },
        "id": "vB09EkGsHK7c",
        "outputId": "24262627-85d4-4fb9-85ac-ab280aa13170"
      },
      "execution_count": null,
      "outputs": [
        {
          "output_type": "stream",
          "name": "stdout",
          "text": [
            "(2500, 4)\n"
          ]
        }
      ]
    },
    {
      "cell_type": "markdown",
      "source": [
        "## Section 4: Recommendation Matrix\n",
        "\n",
        ">     Building the matrix which contains similarity scores between movies based on the features"
      ],
      "metadata": {
        "id": "brYr66w7GO_M"
      }
    },
    {
      "cell_type": "markdown",
      "source": [
        "#### 1: Training Word based count vectorizer model"
      ],
      "metadata": {
        "id": "tu_PsFWFJH_l"
      }
    },
    {
      "cell_type": "code",
      "source": [
        "## Creating a Count Vectorizer object which will be based on word analyzer, with ngram 1-2 and minimum number of occurances of words as 2\n",
        "count = CountVectorizer(analyzer='word',ngram_range=(1, 2),min_df=2, stop_words='english')\n",
        "\n",
        "## Adjusting the count vectorizer object with respect to our dataset\n",
        "count_matrix = count.fit_transform(master_dataset['soup'])"
      ],
      "metadata": {
        "id": "73hkdAZWAJ76"
      },
      "execution_count": null,
      "outputs": []
    },
    {
      "cell_type": "code",
      "source": [
        "print(count_matrix.shape)"
      ],
      "metadata": {
        "colab": {
          "base_uri": "https://localhost:8080/"
        },
        "id": "V98dZQmkAdhq",
        "outputId": "2c93bde7-fc6e-48d0-bb2a-8956a30acd1e"
      },
      "execution_count": null,
      "outputs": [
        {
          "output_type": "stream",
          "name": "stdout",
          "text": [
            "(2500, 7277)\n"
          ]
        }
      ]
    },
    {
      "cell_type": "markdown",
      "source": [
        "#### 2: Building Cosine Similarity Matrix\n",
        "\n",
        "**NOTE: THE FOLLOWING CODE CELL CAN CONSUME LARGE MEMORY**"
      ],
      "metadata": {
        "id": "bpjCz58UI62D"
      }
    },
    {
      "cell_type": "code",
      "source": [
        "## We build it as an pyarrow dataframe because it is the most efficient\n",
        "table = pa.Table.from_pandas(pd.DataFrame(cosine_similarity(count_matrix, count_matrix)))"
      ],
      "metadata": {
        "id": "M3rn6GT_RUIh"
      },
      "execution_count": null,
      "outputs": []
    },
    {
      "cell_type": "markdown",
      "source": [
        "## Model & Data Export\n",
        "\n",
        ">     Exporting the trained model & dataset efficiently"
      ],
      "metadata": {
        "id": "-BLBAThCiQ7u"
      }
    },
    {
      "cell_type": "markdown",
      "source": [
        "We export the model into parquet format. We have 3 awesome reasons (even recommend for you in your new project)\n",
        "\n",
        "1. Uses Less Storage\n",
        "2. Best Compression Ratio\n",
        "3. Fast & Optimized for efficient Read/Write"
      ],
      "metadata": {
        "id": "CfR_tWcMihg4"
      }
    },
    {
      "cell_type": "code",
      "source": [
        "## save the Master Dataset\n",
        "master_dataset.to_parquet('/content/movie_database.parquet',engine='fastparquet',index=False)"
      ],
      "metadata": {
        "id": "0lSgay2QBLfR"
      },
      "execution_count": null,
      "outputs": []
    },
    {
      "cell_type": "code",
      "source": [
        "## Writing the Matrix table\n",
        "pq.write_table(table, '/content/model.parquet')"
      ],
      "metadata": {
        "id": "KoXEYlfldl1F"
      },
      "execution_count": null,
      "outputs": []
    },
    {
      "cell_type": "code",
      "source": [
        "## Uncomment the following 2 lines of code if you want to save the model to your mounted Google Drive\n",
        "# !mv large_model.parquet ./drive/MyDrive/\n",
        "# !mv large_model.parquet ./drive/MyDrive/"
      ],
      "metadata": {
        "id": "wMlHzAkORabA"
      },
      "execution_count": null,
      "outputs": []
    },
    {
      "cell_type": "markdown",
      "source": [
        "## Inference\n",
        "\n",
        ">     Loading the trained model to execute Inference"
      ],
      "metadata": {
        "id": "e416IXE3RCYJ"
      }
    },
    {
      "cell_type": "code",
      "source": [
        "import pandas as pd\n",
        "import pyarrow as pa"
      ],
      "metadata": {
        "id": "QR7FWs_eF8mv"
      },
      "execution_count": null,
      "outputs": []
    },
    {
      "cell_type": "code",
      "source": [
        "master_dataset = pd.read_parquet('/content/movie_database.parquet')"
      ],
      "metadata": {
        "id": "Xo0PYdBwFxRc"
      },
      "execution_count": null,
      "outputs": []
    },
    {
      "cell_type": "code",
      "source": [
        "master_dataset.head(3)"
      ],
      "metadata": {
        "colab": {
          "base_uri": "https://localhost:8080/",
          "height": 143
        },
        "id": "P1CdagSLNpC8",
        "outputId": "22b79e85-e2bf-48dc-e968-607c546075f8"
      },
      "execution_count": null,
      "outputs": [
        {
          "output_type": "execute_result",
          "data": {
            "text/plain": [
              "  release_date       title   main_director  \\\n",
              "0   2015-06-17     Minions      Kyle Balda   \n",
              "1   2014-10-24  Big Hero 6  Chris Williams   \n",
              "2   2016-02-09    Deadpool      Tim Miller   \n",
              "\n",
              "                                                soup  \n",
              "0  assist aftercreditssting duringcreditssting ev...  \n",
              "1  brotherbrotherrelationship hero talent reveng ...  \n",
              "2  antihero mercenari marvelcom superhero basedon...  "
            ],
            "text/html": [
              "\n",
              "  <div id=\"df-0dae6289-63a8-486e-b315-d32a1431a874\" class=\"colab-df-container\">\n",
              "    <div>\n",
              "<style scoped>\n",
              "    .dataframe tbody tr th:only-of-type {\n",
              "        vertical-align: middle;\n",
              "    }\n",
              "\n",
              "    .dataframe tbody tr th {\n",
              "        vertical-align: top;\n",
              "    }\n",
              "\n",
              "    .dataframe thead th {\n",
              "        text-align: right;\n",
              "    }\n",
              "</style>\n",
              "<table border=\"1\" class=\"dataframe\">\n",
              "  <thead>\n",
              "    <tr style=\"text-align: right;\">\n",
              "      <th></th>\n",
              "      <th>release_date</th>\n",
              "      <th>title</th>\n",
              "      <th>main_director</th>\n",
              "      <th>soup</th>\n",
              "    </tr>\n",
              "  </thead>\n",
              "  <tbody>\n",
              "    <tr>\n",
              "      <th>0</th>\n",
              "      <td>2015-06-17</td>\n",
              "      <td>Minions</td>\n",
              "      <td>Kyle Balda</td>\n",
              "      <td>assist aftercreditssting duringcreditssting ev...</td>\n",
              "    </tr>\n",
              "    <tr>\n",
              "      <th>1</th>\n",
              "      <td>2014-10-24</td>\n",
              "      <td>Big Hero 6</td>\n",
              "      <td>Chris Williams</td>\n",
              "      <td>brotherbrotherrelationship hero talent reveng ...</td>\n",
              "    </tr>\n",
              "    <tr>\n",
              "      <th>2</th>\n",
              "      <td>2016-02-09</td>\n",
              "      <td>Deadpool</td>\n",
              "      <td>Tim Miller</td>\n",
              "      <td>antihero mercenari marvelcom superhero basedon...</td>\n",
              "    </tr>\n",
              "  </tbody>\n",
              "</table>\n",
              "</div>\n",
              "    <div class=\"colab-df-buttons\">\n",
              "\n",
              "  <div class=\"colab-df-container\">\n",
              "    <button class=\"colab-df-convert\" onclick=\"convertToInteractive('df-0dae6289-63a8-486e-b315-d32a1431a874')\"\n",
              "            title=\"Convert this dataframe to an interactive table.\"\n",
              "            style=\"display:none;\">\n",
              "\n",
              "  <svg xmlns=\"http://www.w3.org/2000/svg\" height=\"24px\" viewBox=\"0 -960 960 960\">\n",
              "    <path d=\"M120-120v-720h720v720H120Zm60-500h600v-160H180v160Zm220 220h160v-160H400v160Zm0 220h160v-160H400v160ZM180-400h160v-160H180v160Zm440 0h160v-160H620v160ZM180-180h160v-160H180v160Zm440 0h160v-160H620v160Z\"/>\n",
              "  </svg>\n",
              "    </button>\n",
              "\n",
              "  <style>\n",
              "    .colab-df-container {\n",
              "      display:flex;\n",
              "      gap: 12px;\n",
              "    }\n",
              "\n",
              "    .colab-df-convert {\n",
              "      background-color: #E8F0FE;\n",
              "      border: none;\n",
              "      border-radius: 50%;\n",
              "      cursor: pointer;\n",
              "      display: none;\n",
              "      fill: #1967D2;\n",
              "      height: 32px;\n",
              "      padding: 0 0 0 0;\n",
              "      width: 32px;\n",
              "    }\n",
              "\n",
              "    .colab-df-convert:hover {\n",
              "      background-color: #E2EBFA;\n",
              "      box-shadow: 0px 1px 2px rgba(60, 64, 67, 0.3), 0px 1px 3px 1px rgba(60, 64, 67, 0.15);\n",
              "      fill: #174EA6;\n",
              "    }\n",
              "\n",
              "    .colab-df-buttons div {\n",
              "      margin-bottom: 4px;\n",
              "    }\n",
              "\n",
              "    [theme=dark] .colab-df-convert {\n",
              "      background-color: #3B4455;\n",
              "      fill: #D2E3FC;\n",
              "    }\n",
              "\n",
              "    [theme=dark] .colab-df-convert:hover {\n",
              "      background-color: #434B5C;\n",
              "      box-shadow: 0px 1px 3px 1px rgba(0, 0, 0, 0.15);\n",
              "      filter: drop-shadow(0px 1px 2px rgba(0, 0, 0, 0.3));\n",
              "      fill: #FFFFFF;\n",
              "    }\n",
              "  </style>\n",
              "\n",
              "    <script>\n",
              "      const buttonEl =\n",
              "        document.querySelector('#df-0dae6289-63a8-486e-b315-d32a1431a874 button.colab-df-convert');\n",
              "      buttonEl.style.display =\n",
              "        google.colab.kernel.accessAllowed ? 'block' : 'none';\n",
              "\n",
              "      async function convertToInteractive(key) {\n",
              "        const element = document.querySelector('#df-0dae6289-63a8-486e-b315-d32a1431a874');\n",
              "        const dataTable =\n",
              "          await google.colab.kernel.invokeFunction('convertToInteractive',\n",
              "                                                    [key], {});\n",
              "        if (!dataTable) return;\n",
              "\n",
              "        const docLinkHtml = 'Like what you see? Visit the ' +\n",
              "          '<a target=\"_blank\" href=https://colab.research.google.com/notebooks/data_table.ipynb>data table notebook</a>'\n",
              "          + ' to learn more about interactive tables.';\n",
              "        element.innerHTML = '';\n",
              "        dataTable['output_type'] = 'display_data';\n",
              "        await google.colab.output.renderOutput(dataTable, element);\n",
              "        const docLink = document.createElement('div');\n",
              "        docLink.innerHTML = docLinkHtml;\n",
              "        element.appendChild(docLink);\n",
              "      }\n",
              "    </script>\n",
              "  </div>\n",
              "\n",
              "\n",
              "<div id=\"df-8b101ad3-6d95-4887-9ae5-fafac57f9443\">\n",
              "  <button class=\"colab-df-quickchart\" onclick=\"quickchart('df-8b101ad3-6d95-4887-9ae5-fafac57f9443')\"\n",
              "            title=\"Suggest charts\"\n",
              "            style=\"display:none;\">\n",
              "\n",
              "<svg xmlns=\"http://www.w3.org/2000/svg\" height=\"24px\"viewBox=\"0 0 24 24\"\n",
              "     width=\"24px\">\n",
              "    <g>\n",
              "        <path d=\"M19 3H5c-1.1 0-2 .9-2 2v14c0 1.1.9 2 2 2h14c1.1 0 2-.9 2-2V5c0-1.1-.9-2-2-2zM9 17H7v-7h2v7zm4 0h-2V7h2v10zm4 0h-2v-4h2v4z\"/>\n",
              "    </g>\n",
              "</svg>\n",
              "  </button>\n",
              "\n",
              "<style>\n",
              "  .colab-df-quickchart {\n",
              "      --bg-color: #E8F0FE;\n",
              "      --fill-color: #1967D2;\n",
              "      --hover-bg-color: #E2EBFA;\n",
              "      --hover-fill-color: #174EA6;\n",
              "      --disabled-fill-color: #AAA;\n",
              "      --disabled-bg-color: #DDD;\n",
              "  }\n",
              "\n",
              "  [theme=dark] .colab-df-quickchart {\n",
              "      --bg-color: #3B4455;\n",
              "      --fill-color: #D2E3FC;\n",
              "      --hover-bg-color: #434B5C;\n",
              "      --hover-fill-color: #FFFFFF;\n",
              "      --disabled-bg-color: #3B4455;\n",
              "      --disabled-fill-color: #666;\n",
              "  }\n",
              "\n",
              "  .colab-df-quickchart {\n",
              "    background-color: var(--bg-color);\n",
              "    border: none;\n",
              "    border-radius: 50%;\n",
              "    cursor: pointer;\n",
              "    display: none;\n",
              "    fill: var(--fill-color);\n",
              "    height: 32px;\n",
              "    padding: 0;\n",
              "    width: 32px;\n",
              "  }\n",
              "\n",
              "  .colab-df-quickchart:hover {\n",
              "    background-color: var(--hover-bg-color);\n",
              "    box-shadow: 0 1px 2px rgba(60, 64, 67, 0.3), 0 1px 3px 1px rgba(60, 64, 67, 0.15);\n",
              "    fill: var(--button-hover-fill-color);\n",
              "  }\n",
              "\n",
              "  .colab-df-quickchart-complete:disabled,\n",
              "  .colab-df-quickchart-complete:disabled:hover {\n",
              "    background-color: var(--disabled-bg-color);\n",
              "    fill: var(--disabled-fill-color);\n",
              "    box-shadow: none;\n",
              "  }\n",
              "\n",
              "  .colab-df-spinner {\n",
              "    border: 2px solid var(--fill-color);\n",
              "    border-color: transparent;\n",
              "    border-bottom-color: var(--fill-color);\n",
              "    animation:\n",
              "      spin 1s steps(1) infinite;\n",
              "  }\n",
              "\n",
              "  @keyframes spin {\n",
              "    0% {\n",
              "      border-color: transparent;\n",
              "      border-bottom-color: var(--fill-color);\n",
              "      border-left-color: var(--fill-color);\n",
              "    }\n",
              "    20% {\n",
              "      border-color: transparent;\n",
              "      border-left-color: var(--fill-color);\n",
              "      border-top-color: var(--fill-color);\n",
              "    }\n",
              "    30% {\n",
              "      border-color: transparent;\n",
              "      border-left-color: var(--fill-color);\n",
              "      border-top-color: var(--fill-color);\n",
              "      border-right-color: var(--fill-color);\n",
              "    }\n",
              "    40% {\n",
              "      border-color: transparent;\n",
              "      border-right-color: var(--fill-color);\n",
              "      border-top-color: var(--fill-color);\n",
              "    }\n",
              "    60% {\n",
              "      border-color: transparent;\n",
              "      border-right-color: var(--fill-color);\n",
              "    }\n",
              "    80% {\n",
              "      border-color: transparent;\n",
              "      border-right-color: var(--fill-color);\n",
              "      border-bottom-color: var(--fill-color);\n",
              "    }\n",
              "    90% {\n",
              "      border-color: transparent;\n",
              "      border-bottom-color: var(--fill-color);\n",
              "    }\n",
              "  }\n",
              "</style>\n",
              "\n",
              "  <script>\n",
              "    async function quickchart(key) {\n",
              "      const quickchartButtonEl =\n",
              "        document.querySelector('#' + key + ' button');\n",
              "      quickchartButtonEl.disabled = true;  // To prevent multiple clicks.\n",
              "      quickchartButtonEl.classList.add('colab-df-spinner');\n",
              "      try {\n",
              "        const charts = await google.colab.kernel.invokeFunction(\n",
              "            'suggestCharts', [key], {});\n",
              "      } catch (error) {\n",
              "        console.error('Error during call to suggestCharts:', error);\n",
              "      }\n",
              "      quickchartButtonEl.classList.remove('colab-df-spinner');\n",
              "      quickchartButtonEl.classList.add('colab-df-quickchart-complete');\n",
              "    }\n",
              "    (() => {\n",
              "      let quickchartButtonEl =\n",
              "        document.querySelector('#df-8b101ad3-6d95-4887-9ae5-fafac57f9443 button');\n",
              "      quickchartButtonEl.style.display =\n",
              "        google.colab.kernel.accessAllowed ? 'block' : 'none';\n",
              "    })();\n",
              "  </script>\n",
              "</div>\n",
              "    </div>\n",
              "  </div>\n"
            ],
            "application/vnd.google.colaboratory.intrinsic+json": {
              "type": "dataframe",
              "variable_name": "master_dataset",
              "summary": "{\n  \"name\": \"master_dataset\",\n  \"rows\": 2500,\n  \"fields\": [\n    {\n      \"column\": \"release_date\",\n      \"properties\": {\n        \"dtype\": \"object\",\n        \"num_unique_values\": 2141,\n        \"samples\": [\n          \"1969-10-15\",\n          \"1993-03-19\",\n          \"1979-06-22\"\n        ],\n        \"semantic_type\": \"\",\n        \"description\": \"\"\n      }\n    },\n    {\n      \"column\": \"title\",\n      \"properties\": {\n        \"dtype\": \"string\",\n        \"num_unique_values\": 2445,\n        \"samples\": [\n          \"The Living Daylights\",\n          \"Wedding Crashers\",\n          \"The Indian in the Cupboard\"\n        ],\n        \"semantic_type\": \"\",\n        \"description\": \"\"\n      }\n    },\n    {\n      \"column\": \"main_director\",\n      \"properties\": {\n        \"dtype\": \"string\",\n        \"num_unique_values\": 1359,\n        \"samples\": [\n          \"Steve McQueen\",\n          \"James Dodson\",\n          \"Maxime Govare\"\n        ],\n        \"semantic_type\": \"\",\n        \"description\": \"\"\n      }\n    },\n    {\n      \"column\": \"soup\",\n      \"properties\": {\n        \"dtype\": \"string\",\n        \"num_unique_values\": 2487,\n        \"samples\": [\n          \"cropdust fighterjet anthropomorph danecook carlosalazraqui valkilmer klayhall klayhall klayhall Animation Family Adventure Comedy\",\n          \"gay mountrushmorenationalmemori swearword hell worldsupremaci elementaryschool saddamhussein bloodsplatt atheist sequel surreal friendswhohateeachoth satan basedontvseri cartoonsex childswear visionsofhel u.s.canadawar shottodeath demon adultanim southparkcolorado treyparker mattstone marykaybergman treyparker treyparker treyparker Animation Comedy Music\",\n          \"premonit deathbyaccid crash endisher duringcreditssting 3d emmabell nicholasd'agosto milesfisher stevenquale stevenquale stevenquale Horror Mystery\"\n        ],\n        \"semantic_type\": \"\",\n        \"description\": \"\"\n      }\n    }\n  ]\n}"
            }
          },
          "metadata": {},
          "execution_count": 43
        }
      ]
    },
    {
      "cell_type": "code",
      "source": [
        "table = pa.parquet.read_table('/content/model.parquet').to_pandas()"
      ],
      "metadata": {
        "id": "5sQlU1ujNBQt"
      },
      "execution_count": null,
      "outputs": []
    },
    {
      "cell_type": "code",
      "source": [
        "master_dataset = master_dataset.reset_index()\n",
        "titles = master_dataset['title']\n",
        "indices = pd.Series(master_dataset.index, index=master_dataset['title'])"
      ],
      "metadata": {
        "id": "Z8YlkFPwEitp"
      },
      "execution_count": null,
      "outputs": []
    },
    {
      "cell_type": "code",
      "source": [
        "def get_recommendations(movie_id_from_db,movie_db):\n",
        "    try:\n",
        "        sim_scores = list(enumerate(movie_db[movie_id_from_db]))\n",
        "        sim_scores = sorted(sim_scores, key=lambda x: x[1], reverse=True)\n",
        "        sim_scores = sim_scores[1:15] ## get top 15 Recommendations\n",
        "\n",
        "        movie_indices = [i[0] for i in sim_scores]\n",
        "        output = master_dataset.iloc[movie_indices]\n",
        "        output.reset_index(inplace=True, drop=True)\n",
        "\n",
        "        response = []\n",
        "        for i in range(len(output)):\n",
        "            response.append({\n",
        "                'movie_title':output['title'].iloc[i],\n",
        "                'movie_release_date':output['release_date'].iloc[i],\n",
        "                'movie_director':output['main_director'].iloc[i],\n",
        "                'google_link':\"https://www.google.com/search?q=\" + '+'.join(output['title'].iloc[i].strip().split())\n",
        "            })\n",
        "        return response\n",
        "    except Exception as e:\n",
        "        print(\"error: \",e)\n",
        "        return []"
      ],
      "metadata": {
        "id": "on_-itFvj-6x"
      },
      "execution_count": null,
      "outputs": []
    },
    {
      "cell_type": "code",
      "source": [
        "\n",
        "\n",
        "\n",
        "\n",
        "\n",
        "\n",
        "\n",
        "\n",
        "\n",
        "\n",
        "\n",
        "\n",
        "\n",
        "\n",
        "\n",
        "\n",
        "\n",
        "\n",
        "                                                                                                                                                              movie_name = input('Enter a movie Name: ')"
      ],
      "metadata": {
        "colab": {
          "base_uri": "https://localhost:8080/"
        },
        "id": "obiDKWO3kPQO",
        "outputId": "59600614-569f-4c36-b6ce-b653702a213a"
      },
      "execution_count": 5,
      "outputs": [
        {
          "name": "stdout",
          "output_type": "stream",
          "text": [
            "Enter a movie Name: Toy Story\n"
          ]
        }
      ]
    },
    {
      "cell_type": "code",
      "source": [
        "movie_index = titles.to_list().index(movie_name)\n",
        "recommendations = get_recommendations(movie_index,table)"
      ],
      "metadata": {
        "id": "lmp4yv5CFgw6"
      },
      "execution_count": 59,
      "outputs": []
    },
    {
      "cell_type": "code",
      "source": [
        "print(f\"{'Movie Title':<40} | {'Director':<20} | {'Release Date':<15}\")\n",
        "print(f\"-\"*80)\n",
        "for recommendation in recommendations:\n",
        "    print(f\"{recommendation['movie_title']:<40} | {recommendation['movie_director']:<20} | {recommendation['movie_release_date']:<15}\")"
      ],
      "metadata": {
        "id": "lIr4jsTWGap5",
        "colab": {
          "base_uri": "https://localhost:8080/"
        },
        "outputId": "757e7825-868d-4a3e-d0a0-ecf7859d2a93"
      },
      "execution_count": 60,
      "outputs": [
        {
          "output_type": "stream",
          "name": "stdout",
          "text": [
            "Movie Title                              | Director             | Release Date   \n",
            "--------------------------------------------------------------------------------\n",
            "My Best Friend's Girl                    | Howard Deutch        | 2008-09-19     \n",
            "The Great Outdoors                       | Howard Deutch        | 1988-06-17     \n",
            "The Replacements                         | Howard Deutch        | 2000-08-07     \n",
            "For a Good Time, Call...                 | Jamie Travis         | 2012-08-31     \n",
            "Legally Blondes                          | Savage Steve Holland | 2009-04-28     \n",
            "What If                                  | Michael Dowse        | 2013-09-07     \n",
            "Man Up                                   | Ben Palmer           | 2015-05-29     \n",
            "Dennis the Menace                        | Nick Castle          | 1993-06-23     \n",
            "Couples Retreat                          | Peter Billingsley    | 2009-09-19     \n",
            "My Old Lady                              | Israel Horovitz      | 2014-09-09     \n",
            "Turn Me On, Dammit!                      | Jannicke Systad Jacobsen | 2011-08-19     \n",
            "Hello I Must Be Going                    | Todd Louiso          | 2012-09-07     \n",
            "Hysteria                                 | Tanya Wexler         | 2011-06-06     \n",
            "How to Lose Friends & Alienate People    | Robert B. Weide      | 2008-10-02     \n"
          ]
        }
      ]
    },
    {
      "cell_type": "code",
      "source": [],
      "metadata": {
        "id": "g48aHqAimTaX"
      },
      "execution_count": null,
      "outputs": []
    }
  ]
}